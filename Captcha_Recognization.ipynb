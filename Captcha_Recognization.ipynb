{
 "cells": [
  {
   "cell_type": "markdown",
   "id": "0a2a79a9",
   "metadata": {},
   "source": [
    "# Mohammad GharehHasanloo\n",
    "## AI Medic Internship\n",
    "## Second Project"
   ]
  },
  {
   "cell_type": "markdown",
   "id": "972c6260",
   "metadata": {},
   "source": [
    "### Import Necessary Libraries"
   ]
  },
  {
   "cell_type": "code",
   "execution_count": 3,
   "id": "d981d270",
   "metadata": {},
   "outputs": [],
   "source": [
    "import cv2\n",
    "import os\n",
    "import numpy as np\n",
    "import pandas as pd\n",
    "import tensorflow as tf\n",
    "from tensorflow.keras import Model, layers, Sequential\n",
    "import tensorflow.keras.layers as tfkl\n",
    "from random import shuffle\n",
    "%matplotlib inline \n",
    "from matplotlib import pyplot as plt\n",
    "\n",
    "PNG_FOLDER_NAME = 'samples'\n",
    "DEFAULT_CAPTCHA_LENGTH = 5"
   ]
  },
  {
   "cell_type": "markdown",
   "id": "64d384cb",
   "metadata": {},
   "source": [
    "### Load Images from Folder and Convert Images to Grayscale Form\n",
    "load data and apply necessary preprocessing operations to the data"
   ]
  },
  {
   "cell_type": "code",
   "execution_count": 2,
   "id": "9c3081a0",
   "metadata": {},
   "outputs": [],
   "source": [
    "def delete_noisy_line(image:list):\n",
    "    \"\"\" Some processes to delete line on the letters\n",
    "\n",
    "    Args:\n",
    "        image (list): input image that has been loaded recently\n",
    "\n",
    "    Returns:\n",
    "        image (list): converted image to approximately delete noisy line\n",
    "    \"\"\"\n",
    "    image = cv2.blur(image, (3, 3))\n",
    "    ret, image = cv2.threshold(image, 90, 255, cv2.THRESH_BINARY)\n",
    "\n",
    "    image = cv2.dilate(image, np.ones((3, 1), np.uint8))\n",
    "    image = cv2.erode(image, np.ones((2, 2), np.uint8))\n",
    "\n",
    "    return image\n",
    "\n",
    "\n",
    "def load_images_from_folder(folder:str, shuffled_files:list):\n",
    "    \"\"\" This function load images from the determined folder\n",
    "\n",
    "    Args:\n",
    "        folder (str): the name of folder\n",
    "        shuffled_files (list): list of files in determined folder those are shuffled\n",
    "\n",
    "    Returns:\n",
    "        images (list): the variable to save images\n",
    "        splited_labels (list): return the characters of what images show\n",
    "        unique_chars (dict): the unique characters that have been found in labels\n",
    "    \"\"\"\n",
    "    images = []\n",
    "    labels = []\n",
    "    unique_chars = {}\n",
    "    \n",
    "    for filename in shuffled_files:\n",
    "        img = cv2.imread(os.path.join(folder,filename), cv2.IMREAD_GRAYSCALE)\n",
    "        img = delete_noisy_line(img)\n",
    "        \n",
    "        # Add image with its label to `images` and `labels`\n",
    "        if img is not None:\n",
    "            images.append(img)\n",
    "            labels.append(filename.split('.')[0])\n",
    "            \n",
    "            # Find unique characters with their number\n",
    "            for char in filename.split('.')[0]:\n",
    "                if char in unique_chars:\n",
    "                    unique_chars[char] += 1\n",
    "                else:\n",
    "                    unique_chars[char] = 1\n",
    "                    \n",
    "    return images, labels, unique_chars\n",
    "\n",
    "\n",
    "\n",
    "def preprocess_data(images:np.ndarray, labels:np.ndarray, unique_chars:dict, shuffled_files:list):\n",
    "    \"\"\" This function apply preprocess images and labels to convert them to proper shape \n",
    "\n",
    "    Args:\n",
    "        images (np.ndarray): The images those are saved in the type of array\n",
    "        labels (np.ndarray):  the labels in shape: (sample's count,)\n",
    "        unique_chars (dict): unique chars that are found in captchas\n",
    "        shuffled_files (list): list of files in determined folder those are shuffled\n",
    "\n",
    "    Returns:\n",
    "        X (np.ndarray): converted images in shape: (sample's count, height, width, 1)\n",
    "        y (np.ndarray): converted labels in shape: (length of each example, sample's count, unique chars)\n",
    "    \"\"\"\n",
    "    captcha_length = len(labels[0])\n",
    "    unique_chars_count = len(unique_chars)    \n",
    "       \n",
    "    X = np.zeros(images[...,  np.newaxis].shape)\n",
    "    y = np.zeros((captcha_length, len(labels), unique_chars_count))\n",
    "    \n",
    "    for i, img in enumerate(shuffled_files):\n",
    "        # Divide cells of images by 255 to learn more quickly in neural network\n",
    "        captcha_img = images[i]\n",
    "        captcha_img = captcha_img/255.0\n",
    "        \n",
    "        # Reshape `images`\n",
    "        captcha_img = np.reshape(captcha_img, images[0, ...,  np.newaxis].shape)\n",
    "        X[i] = captcha_img\n",
    "        \n",
    "        # Reshape `labels`\n",
    "        curr_name = np.zeros((captcha_length, unique_chars_count))\n",
    "        for j, char in enumerate(labels[i]):\n",
    "            curr_name[j, list(unique_chars.keys()).index(char)] = 1\n",
    "        y[:, i] = curr_name\n",
    "        \n",
    "    return X, y    "
   ]
  },
  {
   "cell_type": "code",
   "execution_count": 3,
   "id": "9f9293d4",
   "metadata": {},
   "outputs": [
    {
     "name": "stdout",
     "output_type": "stream",
     "text": [
      "images' shape is (1070, 50, 200, 1)\n",
      "labels' shape is (5, 1070, 19)\n",
      "unique characters count equals: 19\n"
     ]
    }
   ],
   "source": [
    "# Shuffle folders' name to unorder the files\n",
    "shuffled_files = os.listdir(PNG_FOLDER_NAME)\n",
    "shuffle(shuffled_files)\n",
    "\n",
    "images, labels, unique_chars = load_images_from_folder(PNG_FOLDER_NAME, shuffled_files)\n",
    "images, labels = np.array(images), np.array(labels)\n",
    "images, labels = preprocess_data(images, labels, unique_chars, shuffled_files)\n",
    "\n",
    "unique_chars_count = len(unique_chars)\n",
    "\n",
    "print(f\"images' shape is {images.shape}\")\n",
    "print(f\"labels' shape is {labels.shape}\")\n",
    "print(f\"unique characters count equals: {unique_chars_count}\")"
   ]
  },
  {
   "cell_type": "markdown",
   "id": "3aaa4b6d",
   "metadata": {},
   "source": [
    "#### Plot a Sample"
   ]
  },
  {
   "cell_type": "code",
   "execution_count": 4,
   "id": "162606c7",
   "metadata": {},
   "outputs": [
    {
     "data": {
      "image/png": "[encoded data removed]",
      "text/plain": [
       "<Figure size 432x288 with 1 Axes>"
      ]
     },
     "metadata": {
      "needs_background": "light"
     },
     "output_type": "display_data"
    },
    {
     "name": "stdout",
     "output_type": "stream",
     "text": [
      "array of label number 32 equals:\n",
      " [[0. 1. 0. 0. 0. 0. 0. 0. 0. 0. 0. 0. 0. 0. 0. 0. 0. 0. 0.]\n",
      " [0. 0. 0. 0. 0. 0. 0. 0. 0. 1. 0. 0. 0. 0. 0. 0. 0. 0. 0.]\n",
      " [0. 0. 0. 0. 0. 0. 0. 0. 0. 0. 0. 0. 0. 1. 0. 0. 0. 0. 0.]\n",
      " [0. 0. 0. 0. 0. 0. 0. 0. 0. 0. 0. 0. 0. 0. 1. 0. 0. 0. 0.]\n",
      " [0. 0. 0. 0. 0. 0. 0. 0. 0. 0. 0. 0. 0. 0. 0. 1. 0. 0. 0.]]\n"
     ]
    }
   ],
   "source": [
    "index = 32\n",
    "plt.imshow(images[index])\n",
    "plt.show()\n",
    "print(f\"array of label number {index} equals:\\n {labels[:, index]}\")"
   ]
  },
  {
   "cell_type": "markdown",
   "id": "9743720b",
   "metadata": {},
   "source": [
    "### Design an Object Oriented Network\n",
    "I design a network that has five `Conv2D` that each one is followed by a `MaxPool2D`.<br/>\n",
    "Then, it's followed by a `Flatten`, `Dropout` and `BatchNormalization`..<br/>\n",
    "At last, we have five `Sequential` part those are parallel and each one is used for predicting one letter of the captcha..<br/>\n",
    "Each Sequential part has one `Dense` with 64 neurons, `Dropout`, `BatchNormalization` and `Dense` the number of output(`num_classes`)"
   ]
  },
  {
   "cell_type": "code",
   "execution_count": 5,
   "id": "9312291c",
   "metadata": {},
   "outputs": [],
   "source": [
    "class MyModel(Model):\n",
    "    def __init__(self, num_classes):\n",
    "        super(MyModel, self).__init__()\n",
    "        \n",
    "        self.layer1 = Sequential([\n",
    "            tfkl.Conv2D(16, activation='relu', kernel_size=5, strides=1, padding=\"same\"),\n",
    "            tfkl.MaxPool2D(pool_size=(2, 2), padding='same'),\n",
    "        ])    \n",
    "        self.layer2 = Sequential([\n",
    "            tfkl.Conv2D(32, activation='relu', kernel_size=3, strides=1, padding=\"same\"),\n",
    "            tfkl.MaxPool2D(pool_size=(2, 2), padding='same'),\n",
    "        ])    \n",
    "        self.layer3 = Sequential([\n",
    "            tfkl.Conv2D(64, activation='relu', kernel_size=3, strides=1, padding=\"same\"),\n",
    "            tfkl.MaxPool2D(pool_size=(2, 2), padding='same'),\n",
    "        ])    \n",
    "        self.layer4 = Sequential([\n",
    "            tfkl.Conv2D(128, activation='relu', kernel_size=3, strides=1, padding=\"same\"),\n",
    "            tfkl.MaxPool2D(pool_size=(2, 2), padding='same'),\n",
    "        ])    \n",
    "        self.layer5 = Sequential([\n",
    "            tfkl.Conv2D(256, activation='relu', kernel_size=3, strides=1, padding=\"same\"),\n",
    "            tfkl.MaxPool2D(pool_size=(2, 2), padding='same'),\n",
    "        ])\n",
    "        self.layer6 = Sequential([\n",
    "            tfkl.Flatten(),\n",
    "            tfkl.Dropout(0.2),\n",
    "            tfkl.BatchNormalization(),\n",
    "        ])\n",
    "        self.layer7_1 = Sequential([\n",
    "            tfkl.Dense(64, activation='relu'),\n",
    "            tfkl.Dropout(0.2),\n",
    "            tfkl.BatchNormalization(),\n",
    "            tfkl.Dense(num_classes , activation='softmax', name='char1'),\n",
    "        ])\n",
    "        self.layer7_2 = Sequential([\n",
    "            tfkl.Dense(64, activation='relu'),\n",
    "            tfkl.Dropout(0.2),\n",
    "            tfkl.BatchNormalization(),\n",
    "            tfkl.Dense(num_classes , activation='softmax', name='char2'),\n",
    "        ])\n",
    "        self.layer7_3 = Sequential([\n",
    "            tfkl.Dense(64, activation='relu'),\n",
    "            tfkl.Dropout(0.2),\n",
    "            tfkl.BatchNormalization(),\n",
    "            tfkl.Dense(num_classes , activation='softmax', name='char3'),\n",
    "        ])\n",
    "        self.layer7_4 = Sequential([\n",
    "            tfkl.Dense(64, activation='relu'),\n",
    "            tfkl.Dropout(0.2),\n",
    "            tfkl.BatchNormalization(),\n",
    "            tfkl.Dense(num_classes , activation='softmax', name='char4'),\n",
    "        ])\n",
    "        self.layer7_5 = Sequential([\n",
    "            tfkl.Dense(64, activation='relu'),\n",
    "            tfkl.Dropout(0.2),\n",
    "            tfkl.BatchNormalization(),\n",
    "            tfkl.Dense(num_classes , activation='softmax', name='char5'),\n",
    "        ])\n",
    "       \n",
    "    def call(self, inputs):\n",
    "        x = self.layer1(inputs)\n",
    "        x = self.layer2(x)\n",
    "        x = self.layer3(x)\n",
    "        x = self.layer4(x)\n",
    "        x = self.layer5(x)\n",
    "        x = self.layer6(x)\n",
    "        output1, output2, output3, output4, output5 = self.layer7_1(x), self.layer7_2(x), self.layer7_3(x), self.layer7_4(x), self.layer7_5(x)\n",
    "        output = [output1, output2, output3, output4, output5]\n",
    "        return output        "
   ]
  },
  {
   "cell_type": "code",
   "execution_count": 6,
   "id": "ea7f1a64",
   "metadata": {},
   "outputs": [],
   "source": [
    "input = tfkl.Input(images[0].shape)\n",
    "output = MyModel(unique_chars_count)(input)\n",
    " \n",
    "model = Model(inputs=input, outputs=output)"
   ]
  },
  {
   "cell_type": "code",
   "execution_count": 7,
   "id": "fba32157",
   "metadata": {},
   "outputs": [
    {
     "name": "stdout",
     "output_type": "stream",
     "text": [
      "Model: \"model\"\n",
      "_________________________________________________________________\n",
      " Layer (type)                Output Shape              Param #   \n",
      "=================================================================\n",
      " input_1 (InputLayer)        [(None, 50, 200, 1)]      0         \n",
      "                                                                 \n",
      " my_model (MyModel)          [(None, 19),              1561567   \n",
      "                              (None, 19),                        \n",
      "                              (None, 19),                        \n",
      "                              (None, 19),                        \n",
      "                              (None, 19)]                        \n",
      "                                                                 \n",
      "=================================================================\n",
      "Total params: 1,561,567\n",
      "Trainable params: 1,553,759\n",
      "Non-trainable params: 7,808\n",
      "_________________________________________________________________\n"
     ]
    }
   ],
   "source": [
    "model.summary()"
   ]
  },
  {
   "cell_type": "code",
   "execution_count": 8,
   "id": "770cc733",
   "metadata": {},
   "outputs": [],
   "source": [
    "model.compile(loss='categorical_crossentropy', metrics=['accuracy'], optimizer='adam')"
   ]
  },
  {
   "cell_type": "markdown",
   "id": "4f1a78d4",
   "metadata": {},
   "source": [
    "#### Separate Data to Train and Test\n",
    "Because we shuffle files based on their names, it doesn't need to shuffle"
   ]
  },
  {
   "cell_type": "code",
   "execution_count": 9,
   "id": "82d1b297",
   "metadata": {},
   "outputs": [],
   "source": [
    "# Assign 80% data to train\n",
    "train_size = 0.8\n",
    "numTrainingSamples = int(len(images) * train_size)\n",
    "numTestingSamples = int(len(images) - numTrainingSamples)\n",
    "\n",
    "X_train = images[:numTrainingSamples]\n",
    "y_train = labels[:, :numTrainingSamples]\n",
    "X_test = images[numTrainingSamples:]\n",
    "y_test = labels[:, numTrainingSamples:]"
   ]
  },
  {
   "cell_type": "markdown",
   "id": "17726829",
   "metadata": {},
   "source": [
    "#### Fiting Data"
   ]
  },
  {
   "cell_type": "code",
   "execution_count": 10,
   "id": "e783b4e3",
   "metadata": {},
   "outputs": [
    {
     "name": "stdout",
     "output_type": "stream",
     "text": [
      "Epoch 1/30\n",
      "27/27 [==============================] - 12s 291ms/step - loss: 17.7859 - my_model_loss: 3.5475 - my_model_1_loss: 3.5934 - my_model_2_loss: 3.5379 - my_model_3_loss: 3.5183 - my_model_4_loss: 3.5888 - my_model_accuracy: 0.0561 - my_model_1_accuracy: 0.0526 - my_model_2_accuracy: 0.0631 - my_model_3_accuracy: 0.0619 - my_model_4_accuracy: 0.0549 - val_loss: 15.0525 - val_my_model_loss: 2.9813 - val_my_model_1_loss: 3.0202 - val_my_model_2_loss: 2.9747 - val_my_model_3_loss: 2.9846 - val_my_model_4_loss: 3.0916 - val_my_model_accuracy: 0.0654 - val_my_model_1_accuracy: 0.0421 - val_my_model_2_accuracy: 0.0374 - val_my_model_3_accuracy: 0.0280 - val_my_model_4_accuracy: 0.0327\n",
      "Epoch 2/30\n",
      "27/27 [==============================] - 6s 234ms/step - loss: 16.2892 - my_model_loss: 3.3070 - my_model_1_loss: 3.2813 - my_model_2_loss: 3.2900 - my_model_3_loss: 3.2389 - my_model_4_loss: 3.1720 - my_model_accuracy: 0.0818 - my_model_1_accuracy: 0.0806 - my_model_2_accuracy: 0.0794 - my_model_3_accuracy: 0.0864 - my_model_4_accuracy: 0.1063 - val_loss: 14.5919 - val_my_model_loss: 2.9084 - val_my_model_1_loss: 2.9219 - val_my_model_2_loss: 2.9246 - val_my_model_3_loss: 2.9495 - val_my_model_4_loss: 2.8875 - val_my_model_accuracy: 0.1215 - val_my_model_1_accuracy: 0.0748 - val_my_model_2_accuracy: 0.1028 - val_my_model_3_accuracy: 0.0561 - val_my_model_4_accuracy: 0.0607\n",
      "Epoch 3/30\n",
      "27/27 [==============================] - 6s 219ms/step - loss: 13.8040 - my_model_loss: 2.7130 - my_model_1_loss: 2.8015 - my_model_2_loss: 2.9513 - my_model_3_loss: 2.7708 - my_model_4_loss: 2.5674 - my_model_accuracy: 0.1904 - my_model_1_accuracy: 0.1741 - my_model_2_accuracy: 0.1355 - my_model_3_accuracy: 0.1764 - my_model_4_accuracy: 0.2185 - val_loss: 14.2194 - val_my_model_loss: 2.8136 - val_my_model_1_loss: 2.8586 - val_my_model_2_loss: 2.8701 - val_my_model_3_loss: 2.8618 - val_my_model_4_loss: 2.8153 - val_my_model_accuracy: 0.1262 - val_my_model_1_accuracy: 0.0841 - val_my_model_2_accuracy: 0.0888 - val_my_model_3_accuracy: 0.1121 - val_my_model_4_accuracy: 0.1682\n",
      "Epoch 4/30\n",
      "27/27 [==============================] - 6s 230ms/step - loss: 10.9626 - my_model_loss: 2.0071 - my_model_1_loss: 2.3032 - my_model_2_loss: 2.4310 - my_model_3_loss: 2.2909 - my_model_4_loss: 1.9305 - my_model_accuracy: 0.3727 - my_model_1_accuracy: 0.2956 - my_model_2_accuracy: 0.2500 - my_model_3_accuracy: 0.2839 - my_model_4_accuracy: 0.3680 - val_loss: 13.7432 - val_my_model_loss: 2.6832 - val_my_model_1_loss: 2.7769 - val_my_model_2_loss: 2.8094 - val_my_model_3_loss: 2.7696 - val_my_model_4_loss: 2.7041 - val_my_model_accuracy: 0.1636 - val_my_model_1_accuracy: 0.2103 - val_my_model_2_accuracy: 0.1495 - val_my_model_3_accuracy: 0.1495 - val_my_model_4_accuracy: 0.1776\n",
      "Epoch 5/30\n",
      "27/27 [==============================] - 6s 231ms/step - loss: 8.1730 - my_model_loss: 1.3117 - my_model_1_loss: 1.6781 - my_model_2_loss: 1.9463 - my_model_3_loss: 1.8598 - my_model_4_loss: 1.3771 - my_model_accuracy: 0.6402 - my_model_1_accuracy: 0.4895 - my_model_2_accuracy: 0.3984 - my_model_3_accuracy: 0.4357 - my_model_4_accuracy: 0.6028 - val_loss: 13.7058 - val_my_model_loss: 2.6768 - val_my_model_1_loss: 2.7341 - val_my_model_2_loss: 2.8031 - val_my_model_3_loss: 2.8118 - val_my_model_4_loss: 2.6800 - val_my_model_accuracy: 0.1822 - val_my_model_1_accuracy: 0.1495 - val_my_model_2_accuracy: 0.1495 - val_my_model_3_accuracy: 0.1028 - val_my_model_4_accuracy: 0.0607\n",
      "Epoch 6/30\n",
      "27/27 [==============================] - 6s 237ms/step - loss: 5.6686 - my_model_loss: 0.8088 - my_model_1_loss: 1.1533 - my_model_2_loss: 1.4372 - my_model_3_loss: 1.4351 - my_model_4_loss: 0.8341 - my_model_accuracy: 0.8318 - my_model_1_accuracy: 0.6916 - my_model_2_accuracy: 0.5935 - my_model_3_accuracy: 0.5748 - my_model_4_accuracy: 0.8213 - val_loss: 13.1431 - val_my_model_loss: 2.5209 - val_my_model_1_loss: 2.6496 - val_my_model_2_loss: 2.7518 - val_my_model_3_loss: 2.7368 - val_my_model_4_loss: 2.4840 - val_my_model_accuracy: 0.2383 - val_my_model_1_accuracy: 0.1215 - val_my_model_2_accuracy: 0.0748 - val_my_model_3_accuracy: 0.0935 - val_my_model_4_accuracy: 0.3037\n",
      "Epoch 7/30\n",
      "27/27 [==============================] - 6s 236ms/step - loss: 3.8555 - my_model_loss: 0.5451 - my_model_1_loss: 0.7549 - my_model_2_loss: 1.0101 - my_model_3_loss: 0.9882 - my_model_4_loss: 0.5572 - my_model_accuracy: 0.9124 - my_model_1_accuracy: 0.8329 - my_model_2_accuracy: 0.7488 - my_model_3_accuracy: 0.7558 - my_model_4_accuracy: 0.9089 - val_loss: 13.0617 - val_my_model_loss: 2.5175 - val_my_model_1_loss: 2.6227 - val_my_model_2_loss: 2.7170 - val_my_model_3_loss: 2.7420 - val_my_model_4_loss: 2.4625 - val_my_model_accuracy: 0.2103 - val_my_model_1_accuracy: 0.1028 - val_my_model_2_accuracy: 0.0701 - val_my_model_3_accuracy: 0.1121 - val_my_model_4_accuracy: 0.0888\n",
      "Epoch 8/30\n",
      "27/27 [==============================] - 6s 228ms/step - loss: 2.7214 - my_model_loss: 0.3378 - my_model_1_loss: 0.5270 - my_model_2_loss: 0.7311 - my_model_3_loss: 0.7299 - my_model_4_loss: 0.3956 - my_model_accuracy: 0.9708 - my_model_1_accuracy: 0.9136 - my_model_2_accuracy: 0.8563 - my_model_3_accuracy: 0.8481 - my_model_4_accuracy: 0.9428 - val_loss: 11.4353 - val_my_model_loss: 2.1381 - val_my_model_1_loss: 2.3384 - val_my_model_2_loss: 2.3552 - val_my_model_3_loss: 2.4217 - val_my_model_4_loss: 2.1819 - val_my_model_accuracy: 0.4065 - val_my_model_1_accuracy: 0.2290 - val_my_model_2_accuracy: 0.2523 - val_my_model_3_accuracy: 0.2430 - val_my_model_4_accuracy: 0.3271\n",
      "Epoch 9/30\n",
      "27/27 [==============================] - 6s 221ms/step - loss: 1.8942 - my_model_loss: 0.2450 - my_model_1_loss: 0.3761 - my_model_2_loss: 0.5078 - my_model_3_loss: 0.5024 - my_model_4_loss: 0.2629 - my_model_accuracy: 0.9848 - my_model_1_accuracy: 0.9603 - my_model_2_accuracy: 0.9311 - my_model_3_accuracy: 0.9287 - my_model_4_accuracy: 0.9825 - val_loss: 10.6141 - val_my_model_loss: 2.0167 - val_my_model_1_loss: 2.1300 - val_my_model_2_loss: 2.1677 - val_my_model_3_loss: 2.2362 - val_my_model_4_loss: 2.0635 - val_my_model_accuracy: 0.5187 - val_my_model_1_accuracy: 0.4206 - val_my_model_2_accuracy: 0.3364 - val_my_model_3_accuracy: 0.3364 - val_my_model_4_accuracy: 0.3551\n",
      "Epoch 10/30\n",
      "27/27 [==============================] - 6s 225ms/step - loss: 1.3766 - my_model_loss: 0.1867 - my_model_1_loss: 0.2789 - my_model_2_loss: 0.3572 - my_model_3_loss: 0.3569 - my_model_4_loss: 0.1969 - my_model_accuracy: 0.9918 - my_model_1_accuracy: 0.9755 - my_model_2_accuracy: 0.9685 - my_model_3_accuracy: 0.9638 - my_model_4_accuracy: 0.9836 - val_loss: 9.3882 - val_my_model_loss: 1.7521 - val_my_model_1_loss: 1.8649 - val_my_model_2_loss: 1.9462 - val_my_model_3_loss: 2.0230 - val_my_model_4_loss: 1.8019 - val_my_model_accuracy: 0.7430 - val_my_model_1_accuracy: 0.6495 - val_my_model_2_accuracy: 0.6075 - val_my_model_3_accuracy: 0.5327 - val_my_model_4_accuracy: 0.6402\n",
      "Epoch 11/30\n",
      "27/27 [==============================] - 6s 238ms/step - loss: 1.0962 - my_model_loss: 0.1564 - my_model_1_loss: 0.2225 - my_model_2_loss: 0.2687 - my_model_3_loss: 0.2973 - my_model_4_loss: 0.1514 - my_model_accuracy: 0.9907 - my_model_1_accuracy: 0.9766 - my_model_2_accuracy: 0.9813 - my_model_3_accuracy: 0.9743 - my_model_4_accuracy: 0.9930 - val_loss: 8.7747 - val_my_model_loss: 1.6164 - val_my_model_1_loss: 1.7466 - val_my_model_2_loss: 1.8104 - val_my_model_3_loss: 1.9268 - val_my_model_4_loss: 1.6744 - val_my_model_accuracy: 0.7991 - val_my_model_1_accuracy: 0.7009 - val_my_model_2_accuracy: 0.6963 - val_my_model_3_accuracy: 0.5234 - val_my_model_4_accuracy: 0.6822\n",
      "Epoch 12/30\n",
      "27/27 [==============================] - 7s 246ms/step - loss: 0.8449 - my_model_loss: 0.1195 - my_model_1_loss: 0.1704 - my_model_2_loss: 0.2275 - my_model_3_loss: 0.2126 - my_model_4_loss: 0.1148 - my_model_accuracy: 0.9977 - my_model_1_accuracy: 0.9918 - my_model_2_accuracy: 0.9801 - my_model_3_accuracy: 0.9895 - my_model_4_accuracy: 0.9977 - val_loss: 8.3053 - val_my_model_loss: 1.5139 - val_my_model_1_loss: 1.6201 - val_my_model_2_loss: 1.7055 - val_my_model_3_loss: 1.8590 - val_my_model_4_loss: 1.6068 - val_my_model_accuracy: 0.8178 - val_my_model_1_accuracy: 0.7150 - val_my_model_2_accuracy: 0.6636 - val_my_model_3_accuracy: 0.5327 - val_my_model_4_accuracy: 0.6682\n",
      "Epoch 13/30\n",
      "27/27 [==============================] - 6s 235ms/step - loss: 0.6836 - my_model_loss: 0.0996 - my_model_1_loss: 0.1451 - my_model_2_loss: 0.1723 - my_model_3_loss: 0.1706 - my_model_4_loss: 0.0959 - my_model_accuracy: 0.9977 - my_model_1_accuracy: 0.9907 - my_model_2_accuracy: 0.9895 - my_model_3_accuracy: 0.9953 - my_model_4_accuracy: 0.9965 - val_loss: 7.9478 - val_my_model_loss: 1.4423 - val_my_model_1_loss: 1.4992 - val_my_model_2_loss: 1.6641 - val_my_model_3_loss: 1.8214 - val_my_model_4_loss: 1.5208 - val_my_model_accuracy: 0.7944 - val_my_model_1_accuracy: 0.7617 - val_my_model_2_accuracy: 0.6869 - val_my_model_3_accuracy: 0.5187 - val_my_model_4_accuracy: 0.7103\n",
      "Epoch 14/30\n",
      "27/27 [==============================] - 7s 250ms/step - loss: 0.5450 - my_model_loss: 0.0756 - my_model_1_loss: 0.1176 - my_model_2_loss: 0.1298 - my_model_3_loss: 0.1362 - my_model_4_loss: 0.0857 - my_model_accuracy: 1.0000 - my_model_1_accuracy: 0.9953 - my_model_2_accuracy: 0.9953 - my_model_3_accuracy: 0.9977 - my_model_4_accuracy: 0.9953 - val_loss: 5.9947 - val_my_model_loss: 1.0396 - val_my_model_1_loss: 1.1077 - val_my_model_2_loss: 1.3032 - val_my_model_3_loss: 1.4189 - val_my_model_4_loss: 1.1253 - val_my_model_accuracy: 0.9112 - val_my_model_1_accuracy: 0.8925 - val_my_model_2_accuracy: 0.8318 - val_my_model_3_accuracy: 0.7710 - val_my_model_4_accuracy: 0.8879\n",
      "Epoch 15/30\n",
      "27/27 [==============================] - 7s 266ms/step - loss: 0.4740 - my_model_loss: 0.0681 - my_model_1_loss: 0.0942 - my_model_2_loss: 0.1264 - my_model_3_loss: 0.1139 - my_model_4_loss: 0.0713 - my_model_accuracy: 0.9988 - my_model_1_accuracy: 0.9977 - my_model_2_accuracy: 0.9953 - my_model_3_accuracy: 0.9942 - my_model_4_accuracy: 0.9953 - val_loss: 5.2518 - val_my_model_loss: 0.8707 - val_my_model_1_loss: 0.9738 - val_my_model_2_loss: 1.1246 - val_my_model_3_loss: 1.2551 - val_my_model_4_loss: 1.0275 - val_my_model_accuracy: 0.9393 - val_my_model_1_accuracy: 0.9019 - val_my_model_2_accuracy: 0.8879 - val_my_model_3_accuracy: 0.8271 - val_my_model_4_accuracy: 0.9065\n",
      "Epoch 16/30\n",
      "27/27 [==============================] - 7s 269ms/step - loss: 0.4191 - my_model_loss: 0.0618 - my_model_1_loss: 0.0766 - my_model_2_loss: 0.1107 - my_model_3_loss: 0.1045 - my_model_4_loss: 0.0654 - my_model_accuracy: 0.9977 - my_model_1_accuracy: 0.9977 - my_model_2_accuracy: 0.9953 - my_model_3_accuracy: 0.9965 - my_model_4_accuracy: 0.9965 - val_loss: 3.9895 - val_my_model_loss: 0.6603 - val_my_model_1_loss: 0.7351 - val_my_model_2_loss: 0.9194 - val_my_model_3_loss: 0.9675 - val_my_model_4_loss: 0.7071 - val_my_model_accuracy: 0.9439 - val_my_model_1_accuracy: 0.9252 - val_my_model_2_accuracy: 0.8972 - val_my_model_3_accuracy: 0.8505 - val_my_model_4_accuracy: 0.9486\n",
      "Epoch 17/30\n",
      "27/27 [==============================] - 7s 268ms/step - loss: 0.3600 - my_model_loss: 0.0517 - my_model_1_loss: 0.0719 - my_model_2_loss: 0.0900 - my_model_3_loss: 0.0899 - my_model_4_loss: 0.0565 - my_model_accuracy: 1.0000 - my_model_1_accuracy: 0.9988 - my_model_2_accuracy: 0.9988 - my_model_3_accuracy: 1.0000 - my_model_4_accuracy: 1.0000 - val_loss: 3.5547 - val_my_model_loss: 0.5731 - val_my_model_1_loss: 0.6323 - val_my_model_2_loss: 0.8108 - val_my_model_3_loss: 0.9098 - val_my_model_4_loss: 0.6287 - val_my_model_accuracy: 0.9720 - val_my_model_1_accuracy: 0.9299 - val_my_model_2_accuracy: 0.9252 - val_my_model_3_accuracy: 0.8598 - val_my_model_4_accuracy: 0.9393\n",
      "Epoch 18/30\n",
      "27/27 [==============================] - 6s 236ms/step - loss: 0.3145 - my_model_loss: 0.0451 - my_model_1_loss: 0.0596 - my_model_2_loss: 0.0854 - my_model_3_loss: 0.0748 - my_model_4_loss: 0.0497 - my_model_accuracy: 1.0000 - my_model_1_accuracy: 0.9988 - my_model_2_accuracy: 0.9942 - my_model_3_accuracy: 0.9988 - my_model_4_accuracy: 0.9988 - val_loss: 3.2391 - val_my_model_loss: 0.4839 - val_my_model_1_loss: 0.5930 - val_my_model_2_loss: 0.7610 - val_my_model_3_loss: 0.8309 - val_my_model_4_loss: 0.5703 - val_my_model_accuracy: 0.9673 - val_my_model_1_accuracy: 0.9299 - val_my_model_2_accuracy: 0.9019 - val_my_model_3_accuracy: 0.8645 - val_my_model_4_accuracy: 0.9393\n",
      "Epoch 19/30\n",
      "27/27 [==============================] - 6s 226ms/step - loss: 0.2763 - my_model_loss: 0.0393 - my_model_1_loss: 0.0497 - my_model_2_loss: 0.0697 - my_model_3_loss: 0.0756 - my_model_4_loss: 0.0420 - my_model_accuracy: 1.0000 - my_model_1_accuracy: 0.9988 - my_model_2_accuracy: 0.9988 - my_model_3_accuracy: 1.0000 - my_model_4_accuracy: 1.0000 - val_loss: 2.8047 - val_my_model_loss: 0.4465 - val_my_model_1_loss: 0.5063 - val_my_model_2_loss: 0.6692 - val_my_model_3_loss: 0.7142 - val_my_model_4_loss: 0.4686 - val_my_model_accuracy: 0.9533 - val_my_model_1_accuracy: 0.9439 - val_my_model_2_accuracy: 0.9112 - val_my_model_3_accuracy: 0.8598 - val_my_model_4_accuracy: 0.9533\n",
      "Epoch 20/30\n",
      "27/27 [==============================] - 6s 230ms/step - loss: 0.2369 - my_model_loss: 0.0392 - my_model_1_loss: 0.0434 - my_model_2_loss: 0.0584 - my_model_3_loss: 0.0558 - my_model_4_loss: 0.0402 - my_model_accuracy: 1.0000 - my_model_1_accuracy: 0.9988 - my_model_2_accuracy: 0.9977 - my_model_3_accuracy: 1.0000 - my_model_4_accuracy: 1.0000 - val_loss: 2.0902 - val_my_model_loss: 0.2946 - val_my_model_1_loss: 0.3830 - val_my_model_2_loss: 0.5182 - val_my_model_3_loss: 0.5609 - val_my_model_4_loss: 0.3335 - val_my_model_accuracy: 0.9673 - val_my_model_1_accuracy: 0.9673 - val_my_model_2_accuracy: 0.9346 - val_my_model_3_accuracy: 0.8879 - val_my_model_4_accuracy: 0.9579\n",
      "Epoch 21/30\n",
      "27/27 [==============================] - 6s 232ms/step - loss: 0.2080 - my_model_loss: 0.0315 - my_model_1_loss: 0.0362 - my_model_2_loss: 0.0554 - my_model_3_loss: 0.0485 - my_model_4_loss: 0.0364 - my_model_accuracy: 1.0000 - my_model_1_accuracy: 1.0000 - my_model_2_accuracy: 0.9988 - my_model_3_accuracy: 1.0000 - my_model_4_accuracy: 1.0000 - val_loss: 1.9069 - val_my_model_loss: 0.2728 - val_my_model_1_loss: 0.3340 - val_my_model_2_loss: 0.4828 - val_my_model_3_loss: 0.5187 - val_my_model_4_loss: 0.2986 - val_my_model_accuracy: 0.9626 - val_my_model_1_accuracy: 0.9533 - val_my_model_2_accuracy: 0.9393 - val_my_model_3_accuracy: 0.8879 - val_my_model_4_accuracy: 0.9579\n",
      "Epoch 22/30\n",
      "27/27 [==============================] - 6s 228ms/step - loss: 0.2024 - my_model_loss: 0.0315 - my_model_1_loss: 0.0395 - my_model_2_loss: 0.0528 - my_model_3_loss: 0.0442 - my_model_4_loss: 0.0344 - my_model_accuracy: 1.0000 - my_model_1_accuracy: 1.0000 - my_model_2_accuracy: 0.9977 - my_model_3_accuracy: 0.9988 - my_model_4_accuracy: 1.0000 - val_loss: 1.6616 - val_my_model_loss: 0.2232 - val_my_model_1_loss: 0.2979 - val_my_model_2_loss: 0.4187 - val_my_model_3_loss: 0.4672 - val_my_model_4_loss: 0.2547 - val_my_model_accuracy: 0.9626 - val_my_model_1_accuracy: 0.9626 - val_my_model_2_accuracy: 0.9439 - val_my_model_3_accuracy: 0.9065 - val_my_model_4_accuracy: 0.9626\n",
      "Epoch 23/30\n",
      "27/27 [==============================] - 6s 236ms/step - loss: 0.1919 - my_model_loss: 0.0288 - my_model_1_loss: 0.0407 - my_model_2_loss: 0.0501 - my_model_3_loss: 0.0427 - my_model_4_loss: 0.0295 - my_model_accuracy: 1.0000 - my_model_1_accuracy: 0.9977 - my_model_2_accuracy: 0.9988 - my_model_3_accuracy: 1.0000 - my_model_4_accuracy: 1.0000 - val_loss: 1.5092 - val_my_model_loss: 0.2024 - val_my_model_1_loss: 0.2719 - val_my_model_2_loss: 0.3793 - val_my_model_3_loss: 0.4402 - val_my_model_4_loss: 0.2155 - val_my_model_accuracy: 0.9673 - val_my_model_1_accuracy: 0.9533 - val_my_model_2_accuracy: 0.9346 - val_my_model_3_accuracy: 0.9019 - val_my_model_4_accuracy: 0.9579\n",
      "Epoch 24/30\n",
      "27/27 [==============================] - 6s 228ms/step - loss: 0.1675 - my_model_loss: 0.0249 - my_model_1_loss: 0.0344 - my_model_2_loss: 0.0386 - my_model_3_loss: 0.0420 - my_model_4_loss: 0.0276 - my_model_accuracy: 1.0000 - my_model_1_accuracy: 1.0000 - my_model_2_accuracy: 1.0000 - my_model_3_accuracy: 1.0000 - my_model_4_accuracy: 1.0000 - val_loss: 1.3735 - val_my_model_loss: 0.1691 - val_my_model_1_loss: 0.2528 - val_my_model_2_loss: 0.3511 - val_my_model_3_loss: 0.3976 - val_my_model_4_loss: 0.2030 - val_my_model_accuracy: 0.9720 - val_my_model_1_accuracy: 0.9486 - val_my_model_2_accuracy: 0.9346 - val_my_model_3_accuracy: 0.9019 - val_my_model_4_accuracy: 0.9579\n",
      "Epoch 25/30\n",
      "27/27 [==============================] - 6s 227ms/step - loss: 0.1506 - my_model_loss: 0.0229 - my_model_1_loss: 0.0273 - my_model_2_loss: 0.0377 - my_model_3_loss: 0.0356 - my_model_4_loss: 0.0271 - my_model_accuracy: 1.0000 - my_model_1_accuracy: 1.0000 - my_model_2_accuracy: 1.0000 - my_model_3_accuracy: 1.0000 - my_model_4_accuracy: 1.0000 - val_loss: 1.2269 - val_my_model_loss: 0.1482 - val_my_model_1_loss: 0.2320 - val_my_model_2_loss: 0.3275 - val_my_model_3_loss: 0.3502 - val_my_model_4_loss: 0.1689 - val_my_model_accuracy: 0.9720 - val_my_model_1_accuracy: 0.9439 - val_my_model_2_accuracy: 0.9393 - val_my_model_3_accuracy: 0.9112 - val_my_model_4_accuracy: 0.9579\n",
      "Epoch 26/30\n",
      "27/27 [==============================] - 6s 218ms/step - loss: 0.1438 - my_model_loss: 0.0255 - my_model_1_loss: 0.0301 - my_model_2_loss: 0.0341 - my_model_3_loss: 0.0320 - my_model_4_loss: 0.0221 - my_model_accuracy: 0.9988 - my_model_1_accuracy: 0.9988 - my_model_2_accuracy: 1.0000 - my_model_3_accuracy: 1.0000 - my_model_4_accuracy: 1.0000 - val_loss: 1.0588 - val_my_model_loss: 0.1291 - val_my_model_1_loss: 0.1816 - val_my_model_2_loss: 0.2821 - val_my_model_3_loss: 0.3195 - val_my_model_4_loss: 0.1465 - val_my_model_accuracy: 0.9720 - val_my_model_1_accuracy: 0.9720 - val_my_model_2_accuracy: 0.9439 - val_my_model_3_accuracy: 0.9206 - val_my_model_4_accuracy: 0.9673\n",
      "Epoch 27/30\n",
      "27/27 [==============================] - 6s 206ms/step - loss: 0.1361 - my_model_loss: 0.0201 - my_model_1_loss: 0.0270 - my_model_2_loss: 0.0350 - my_model_3_loss: 0.0309 - my_model_4_loss: 0.0231 - my_model_accuracy: 1.0000 - my_model_1_accuracy: 1.0000 - my_model_2_accuracy: 0.9965 - my_model_3_accuracy: 0.9988 - my_model_4_accuracy: 1.0000 - val_loss: 0.9992 - val_my_model_loss: 0.1300 - val_my_model_1_loss: 0.1990 - val_my_model_2_loss: 0.2473 - val_my_model_3_loss: 0.2891 - val_my_model_4_loss: 0.1337 - val_my_model_accuracy: 0.9720 - val_my_model_1_accuracy: 0.9579 - val_my_model_2_accuracy: 0.9486 - val_my_model_3_accuracy: 0.9252 - val_my_model_4_accuracy: 0.9579\n",
      "Epoch 28/30\n",
      "27/27 [==============================] - 6s 223ms/step - loss: 0.1241 - my_model_loss: 0.0215 - my_model_1_loss: 0.0270 - my_model_2_loss: 0.0283 - my_model_3_loss: 0.0275 - my_model_4_loss: 0.0198 - my_model_accuracy: 1.0000 - my_model_1_accuracy: 1.0000 - my_model_2_accuracy: 1.0000 - my_model_3_accuracy: 1.0000 - my_model_4_accuracy: 1.0000 - val_loss: 0.9446 - val_my_model_loss: 0.1012 - val_my_model_1_loss: 0.1708 - val_my_model_2_loss: 0.2610 - val_my_model_3_loss: 0.2841 - val_my_model_4_loss: 0.1275 - val_my_model_accuracy: 0.9766 - val_my_model_1_accuracy: 0.9720 - val_my_model_2_accuracy: 0.9579 - val_my_model_3_accuracy: 0.9206 - val_my_model_4_accuracy: 0.9626\n",
      "Epoch 29/30\n",
      "27/27 [==============================] - 6s 213ms/step - loss: 0.1119 - my_model_loss: 0.0205 - my_model_1_loss: 0.0200 - my_model_2_loss: 0.0274 - my_model_3_loss: 0.0266 - my_model_4_loss: 0.0174 - my_model_accuracy: 1.0000 - my_model_1_accuracy: 1.0000 - my_model_2_accuracy: 1.0000 - my_model_3_accuracy: 1.0000 - my_model_4_accuracy: 1.0000 - val_loss: 0.8885 - val_my_model_loss: 0.0968 - val_my_model_1_loss: 0.1517 - val_my_model_2_loss: 0.2419 - val_my_model_3_loss: 0.2584 - val_my_model_4_loss: 0.1398 - val_my_model_accuracy: 0.9813 - val_my_model_1_accuracy: 0.9766 - val_my_model_2_accuracy: 0.9486 - val_my_model_3_accuracy: 0.9252 - val_my_model_4_accuracy: 0.9766\n",
      "Epoch 30/30\n",
      "27/27 [==============================] - 6s 224ms/step - loss: 0.1152 - my_model_loss: 0.0163 - my_model_1_loss: 0.0222 - my_model_2_loss: 0.0287 - my_model_3_loss: 0.0279 - my_model_4_loss: 0.0201 - my_model_accuracy: 1.0000 - my_model_1_accuracy: 1.0000 - my_model_2_accuracy: 1.0000 - my_model_3_accuracy: 1.0000 - my_model_4_accuracy: 1.0000 - val_loss: 0.8947 - val_my_model_loss: 0.0930 - val_my_model_1_loss: 0.1632 - val_my_model_2_loss: 0.2558 - val_my_model_3_loss: 0.2555 - val_my_model_4_loss: 0.1271 - val_my_model_accuracy: 0.9766 - val_my_model_1_accuracy: 0.9626 - val_my_model_2_accuracy: 0.9439 - val_my_model_3_accuracy: 0.9159 - val_my_model_4_accuracy: 0.9766\n"
     ]
    }
   ],
   "source": [
    "history = model.fit(X_train, [y_train[0], y_train[1], y_train[2], y_train[3], y_train[4]], epochs = 30, batch_size = 32, validation_data=(X_test, [y_test[0], y_test[1], y_test[2], y_test[3], y_test[4]]))"
   ]
  },
  {
   "cell_type": "markdown",
   "id": "ccb27af5",
   "metadata": {},
   "source": [
    "### Evaluation\n",
    "I evaluate by characters one by one but it doesn't work in character number 1 as good as other characters --> I solve this problem by shuffling<br/>\n",
    "UPDATE: It works on all characters and return accuracy more than 94% for each character"
   ]
  },
  {
   "cell_type": "code",
   "execution_count": 11,
   "id": "62dcbd10",
   "metadata": {},
   "outputs": [
    {
     "name": "stdout",
     "output_type": "stream",
     "text": [
      "7/7 [==============================] - 0s 64ms/step - loss: 0.8947 - my_model_loss: 0.0930 - my_model_1_loss: 0.1632 - my_model_2_loss: 0.2558 - my_model_3_loss: 0.2555 - my_model_4_loss: 0.1271 - my_model_accuracy: 0.9766 - my_model_1_accuracy: 0.9626 - my_model_2_accuracy: 0.9439 - my_model_3_accuracy: 0.9159 - my_model_4_accuracy: 0.9766\n"
     ]
    }
   ],
   "source": [
    "modelEvaluation = model.evaluate(X_test, [y_test[0], y_test[1], y_test[2], y_test[3], y_test[4]])"
   ]
  },
  {
   "cell_type": "code",
   "execution_count": 12,
   "id": "70698953",
   "metadata": {},
   "outputs": [
    {
     "name": "stdout",
     "output_type": "stream",
     "text": [
      "Character1 Prediction Accuracy : 97.66355156898499 %\n",
      "Character2 Prediction Accuracy : 96.26168012619019 %\n",
      "Character3 Prediction Accuracy : 94.39252614974976 %\n",
      "Character4 Prediction Accuracy : 91.58878326416016 %\n",
      "Character5 Prediction Accuracy : 97.66355156898499 %\n"
     ]
    }
   ],
   "source": [
    "print(f'Character1 Prediction Accuracy : {modelEvaluation[6]*100} %')\n",
    "print(f'Character2 Prediction Accuracy : {modelEvaluation[7]*100} %')\n",
    "print(f'Character3 Prediction Accuracy : {modelEvaluation[8]*100} %')\n",
    "print(f'Character4 Prediction Accuracy : {modelEvaluation[9]*100} %')\n",
    "print(f'Character5 Prediction Accuracy : {modelEvaluation[10]*100} %')"
   ]
  },
  {
   "cell_type": "markdown",
   "id": "22e6fd3d",
   "metadata": {},
   "source": [
    "#### Plot Diagram to Show Loss in Epochs\n",
    "the loss in train and test has droped but we can see a little overfitting but that's not considerable"
   ]
  },
  {
   "cell_type": "code",
   "execution_count": 13,
   "id": "588a5cd0",
   "metadata": {},
   "outputs": [],
   "source": [
    "def draw_loss_diagram_of_history(curr_history):\n",
    "    plt.plot(curr_history.history['loss'])\n",
    "    plt.plot(curr_history.history['val_loss'])\n",
    "    plt.title('model loss')\n",
    "    plt.ylabel('loss')\n",
    "    plt.xlabel('epoch')\n",
    "    plt.legend(['train', 'test'], loc='upper left')\n",
    "    plt.show()"
   ]
  },
  {
   "cell_type": "code",
   "execution_count": 14,
   "id": "3f5ed0aa",
   "metadata": {},
   "outputs": [
    {
     "data": {
      "image/png": "[encoded data removed]",
      "text/plain": [
       "<Figure size 432x288 with 1 Axes>"
      ]
     },
     "metadata": {
      "needs_background": "light"
     },
     "output_type": "display_data"
    }
   ],
   "source": [
    "draw_loss_diagram_of_history(history)"
   ]
  },
  {
   "cell_type": "markdown",
   "id": "062269b7",
   "metadata": {},
   "source": [
    "### See Predictions\n",
    "return `true_word` and `predicted_word` from `X_test` and `y_test`"
   ]
  },
  {
   "cell_type": "code",
   "execution_count": 15,
   "id": "47e75c3e",
   "metadata": {},
   "outputs": [
    {
     "name": "stdout",
     "output_type": "stream",
     "text": [
      "1/1 [==============================] - 1s 585ms/step\n",
      "1/1 [==============================] - 0s 28ms/step\n",
      "1/1 [==============================] - 0s 28ms/step\n",
      "1/1 [==============================] - 0s 37ms/step\n",
      "1/1 [==============================] - 0s 51ms/step\n",
      "1/1 [==============================] - 0s 40ms/step\n",
      "1/1 [==============================] - 0s 28ms/step\n",
      "1/1 [==============================] - 0s 27ms/step\n",
      "1/1 [==============================] - 0s 29ms/step\n",
      "1/1 [==============================] - 0s 26ms/step\n",
      "1/1 [==============================] - 0s 28ms/step\n",
      "1/1 [==============================] - 0s 27ms/step\n",
      "1/1 [==============================] - 0s 30ms/step\n",
      "1/1 [==============================] - 0s 42ms/step\n",
      "1/1 [==============================] - 0s 46ms/step\n",
      "1/1 [==============================] - 0s 43ms/step\n",
      "1/1 [==============================] - 0s 26ms/step\n",
      "1/1 [==============================] - 0s 37ms/step\n",
      "1/1 [==============================] - 0s 74ms/step\n",
      "1/1 [==============================] - 0s 36ms/step\n",
      "1/1 [==============================] - 0s 25ms/step\n",
      "1/1 [==============================] - 0s 28ms/step\n",
      "1/1 [==============================] - 0s 36ms/step\n",
      "1/1 [==============================] - 0s 29ms/step\n",
      "1/1 [==============================] - 0s 40ms/step\n",
      "1/1 [==============================] - 0s 33ms/step\n",
      "1/1 [==============================] - 0s 37ms/step\n",
      "1/1 [==============================] - 0s 38ms/step\n",
      "1/1 [==============================] - 0s 43ms/step\n",
      "1/1 [==============================] - 0s 44ms/step\n",
      "1/1 [==============================] - 0s 34ms/step\n",
      "1/1 [==============================] - 0s 45ms/step\n",
      "1/1 [==============================] - 0s 46ms/step\n",
      "1/1 [==============================] - 0s 42ms/step\n",
      "1/1 [==============================] - 0s 29ms/step\n",
      "1/1 [==============================] - 0s 43ms/step\n",
      "1/1 [==============================] - 0s 24ms/step\n",
      "1/1 [==============================] - 0s 28ms/step\n",
      "1/1 [==============================] - 0s 40ms/step\n",
      "1/1 [==============================] - 0s 43ms/step\n",
      "1/1 [==============================] - 0s 32ms/step\n",
      "1/1 [==============================] - 0s 28ms/step\n",
      "1/1 [==============================] - 0s 33ms/step\n",
      "1/1 [==============================] - 0s 46ms/step\n",
      "1/1 [==============================] - 0s 49ms/step\n",
      "1/1 [==============================] - 0s 43ms/step\n",
      "1/1 [==============================] - 0s 27ms/step\n",
      "1/1 [==============================] - 0s 25ms/step\n",
      "1/1 [==============================] - 0s 26ms/step\n",
      "1/1 [==============================] - 0s 32ms/step\n",
      "1/1 [==============================] - 0s 32ms/step\n",
      "1/1 [==============================] - 0s 25ms/step\n",
      "1/1 [==============================] - 0s 28ms/step\n",
      "1/1 [==============================] - 0s 24ms/step\n",
      "1/1 [==============================] - 0s 29ms/step\n",
      "1/1 [==============================] - 0s 33ms/step\n",
      "1/1 [==============================] - 0s 27ms/step\n",
      "1/1 [==============================] - 0s 25ms/step\n",
      "1/1 [==============================] - 0s 24ms/step\n",
      "1/1 [==============================] - 0s 88ms/step\n",
      "1/1 [==============================] - 0s 36ms/step\n",
      "1/1 [==============================] - 0s 45ms/step\n",
      "1/1 [==============================] - 0s 42ms/step\n",
      "1/1 [==============================] - 0s 49ms/step\n",
      "1/1 [==============================] - 0s 28ms/step\n",
      "1/1 [==============================] - 0s 36ms/step\n",
      "1/1 [==============================] - 0s 40ms/step\n",
      "1/1 [==============================] - 0s 53ms/step\n",
      "1/1 [==============================] - 0s 42ms/step\n",
      "1/1 [==============================] - 0s 24ms/step\n",
      "1/1 [==============================] - 0s 30ms/step\n",
      "1/1 [==============================] - 0s 29ms/step\n",
      "1/1 [==============================] - 0s 37ms/step\n",
      "1/1 [==============================] - 0s 42ms/step\n",
      "1/1 [==============================] - 0s 27ms/step\n",
      "1/1 [==============================] - 0s 36ms/step\n",
      "1/1 [==============================] - 0s 35ms/step\n",
      "1/1 [==============================] - 0s 35ms/step\n",
      "1/1 [==============================] - 0s 27ms/step\n",
      "1/1 [==============================] - 0s 30ms/step\n",
      "1/1 [==============================] - 0s 25ms/step\n",
      "1/1 [==============================] - 0s 32ms/step\n",
      "1/1 [==============================] - 0s 31ms/step\n",
      "1/1 [==============================] - 0s 33ms/step\n",
      "1/1 [==============================] - 0s 26ms/step\n",
      "1/1 [==============================] - 0s 33ms/step\n",
      "1/1 [==============================] - 0s 42ms/step\n",
      "1/1 [==============================] - 0s 45ms/step\n",
      "1/1 [==============================] - 0s 34ms/step\n",
      "1/1 [==============================] - 0s 33ms/step\n",
      "1/1 [==============================] - 0s 40ms/step\n",
      "1/1 [==============================] - 0s 44ms/step\n",
      "1/1 [==============================] - 0s 25ms/step\n",
      "1/1 [==============================] - 0s 27ms/step\n",
      "1/1 [==============================] - 0s 71ms/step\n",
      "1/1 [==============================] - 0s 72ms/step\n",
      "1/1 [==============================] - 0s 72ms/step\n",
      "1/1 [==============================] - 0s 68ms/step\n",
      "1/1 [==============================] - 0s 61ms/step\n",
      "1/1 [==============================] - 0s 26ms/step\n",
      "1/1 [==============================] - 0s 28ms/step\n",
      "1/1 [==============================] - 0s 26ms/step\n",
      "1/1 [==============================] - 0s 28ms/step\n",
      "1/1 [==============================] - 0s 24ms/step\n",
      "1/1 [==============================] - 0s 85ms/step\n",
      "1/1 [==============================] - 0s 69ms/step\n",
      "1/1 [==============================] - 0s 69ms/step\n",
      "1/1 [==============================] - 0s 67ms/step\n",
      "1/1 [==============================] - 0s 66ms/step\n",
      "1/1 [==============================] - 0s 69ms/step\n",
      "1/1 [==============================] - 0s 63ms/step\n",
      "1/1 [==============================] - 0s 48ms/step\n",
      "1/1 [==============================] - 0s 52ms/step\n",
      "1/1 [==============================] - 0s 49ms/step\n",
      "1/1 [==============================] - 0s 48ms/step\n",
      "1/1 [==============================] - 0s 42ms/step\n",
      "1/1 [==============================] - 0s 46ms/step\n",
      "1/1 [==============================] - 0s 46ms/step\n",
      "1/1 [==============================] - 0s 45ms/step\n",
      "1/1 [==============================] - 0s 45ms/step\n",
      "1/1 [==============================] - 0s 45ms/step\n",
      "1/1 [==============================] - 0s 47ms/step\n",
      "1/1 [==============================] - 0s 43ms/step\n",
      "1/1 [==============================] - 0s 54ms/step\n",
      "1/1 [==============================] - 0s 46ms/step\n",
      "1/1 [==============================] - 0s 33ms/step\n",
      "1/1 [==============================] - 0s 27ms/step\n",
      "1/1 [==============================] - 0s 37ms/step\n",
      "1/1 [==============================] - 0s 33ms/step\n",
      "1/1 [==============================] - 0s 24ms/step\n",
      "1/1 [==============================] - 0s 24ms/step\n",
      "1/1 [==============================] - 0s 28ms/step\n",
      "1/1 [==============================] - 0s 25ms/step\n",
      "1/1 [==============================] - 0s 24ms/step\n",
      "1/1 [==============================] - 0s 27ms/step\n",
      "1/1 [==============================] - 0s 29ms/step\n",
      "1/1 [==============================] - 0s 41ms/step\n",
      "1/1 [==============================] - 0s 37ms/step\n",
      "1/1 [==============================] - 0s 33ms/step\n",
      "1/1 [==============================] - 0s 46ms/step\n",
      "1/1 [==============================] - 0s 47ms/step\n",
      "1/1 [==============================] - 0s 46ms/step\n",
      "1/1 [==============================] - 0s 33ms/step\n",
      "1/1 [==============================] - 0s 75ms/step\n",
      "1/1 [==============================] - 0s 76ms/step\n",
      "1/1 [==============================] - 0s 37ms/step\n",
      "1/1 [==============================] - 0s 26ms/step\n",
      "1/1 [==============================] - 0s 25ms/step\n",
      "1/1 [==============================] - 0s 24ms/step\n",
      "1/1 [==============================] - 0s 26ms/step\n",
      "1/1 [==============================] - 0s 63ms/step\n",
      "1/1 [==============================] - 0s 70ms/step\n",
      "1/1 [==============================] - 0s 47ms/step\n",
      "1/1 [==============================] - 0s 50ms/step\n",
      "1/1 [==============================] - 0s 41ms/step\n",
      "1/1 [==============================] - 0s 44ms/step\n",
      "1/1 [==============================] - 0s 48ms/step\n",
      "1/1 [==============================] - 0s 30ms/step\n",
      "1/1 [==============================] - 0s 36ms/step\n",
      "1/1 [==============================] - 0s 47ms/step\n",
      "1/1 [==============================] - 0s 46ms/step\n",
      "1/1 [==============================] - 0s 37ms/step\n",
      "1/1 [==============================] - 0s 29ms/step\n",
      "1/1 [==============================] - 0s 27ms/step\n",
      "1/1 [==============================] - 0s 33ms/step\n",
      "1/1 [==============================] - 0s 34ms/step\n",
      "1/1 [==============================] - 0s 27ms/step\n",
      "1/1 [==============================] - 0s 23ms/step\n",
      "1/1 [==============================] - 0s 31ms/step\n",
      "1/1 [==============================] - 0s 34ms/step\n",
      "1/1 [==============================] - 0s 42ms/step\n",
      "1/1 [==============================] - 0s 38ms/step\n",
      "1/1 [==============================] - 0s 56ms/step\n",
      "1/1 [==============================] - 0s 44ms/step\n",
      "1/1 [==============================] - 0s 46ms/step\n",
      "1/1 [==============================] - 0s 47ms/step\n",
      "1/1 [==============================] - 0s 36ms/step\n",
      "1/1 [==============================] - 0s 37ms/step\n",
      "1/1 [==============================] - 0s 29ms/step\n",
      "1/1 [==============================] - 0s 46ms/step\n",
      "1/1 [==============================] - 0s 39ms/step\n",
      "1/1 [==============================] - 0s 44ms/step\n",
      "1/1 [==============================] - 0s 45ms/step\n",
      "1/1 [==============================] - 0s 30ms/step\n",
      "1/1 [==============================] - 0s 26ms/step\n",
      "1/1 [==============================] - 0s 29ms/step\n",
      "1/1 [==============================] - 0s 28ms/step\n",
      "1/1 [==============================] - 0s 48ms/step\n",
      "1/1 [==============================] - 0s 46ms/step\n",
      "1/1 [==============================] - 0s 45ms/step\n",
      "1/1 [==============================] - 0s 50ms/step\n",
      "1/1 [==============================] - 0s 35ms/step\n",
      "1/1 [==============================] - 0s 34ms/step\n",
      "1/1 [==============================] - 0s 75ms/step\n",
      "1/1 [==============================] - 0s 39ms/step\n",
      "1/1 [==============================] - 0s 33ms/step\n",
      "1/1 [==============================] - 0s 45ms/step\n",
      "1/1 [==============================] - 0s 37ms/step\n",
      "1/1 [==============================] - 0s 38ms/step\n",
      "1/1 [==============================] - 0s 40ms/step\n",
      "1/1 [==============================] - 0s 50ms/step\n",
      "1/1 [==============================] - 0s 45ms/step\n",
      "1/1 [==============================] - 0s 48ms/step\n",
      "1/1 [==============================] - 0s 75ms/step\n",
      "1/1 [==============================] - 0s 68ms/step\n",
      "1/1 [==============================] - 0s 67ms/step\n",
      "1/1 [==============================] - 0s 49ms/step\n",
      "1/1 [==============================] - 0s 50ms/step\n",
      "1/1 [==============================] - 0s 37ms/step\n",
      "1/1 [==============================] - 0s 24ms/step\n",
      "1/1 [==============================] - 0s 26ms/step\n",
      "1/1 [==============================] - 0s 25ms/step\n",
      "1/1 [==============================] - 0s 30ms/step\n",
      "1/1 [==============================] - 0s 44ms/step\n"
     ]
    }
   ],
   "source": [
    "characters = list(unique_chars.keys())    \n",
    "predicted_word = []\n",
    "true_word = []\n",
    "\n",
    "for i, sample in enumerate(X_test):\n",
    "    sample = np.reshape(X_test[i] , images[0][np.newaxis, :].shape)\n",
    "    sample = model.predict(sample)\n",
    "    sample = np.reshape(sample ,(DEFAULT_CAPTCHA_LENGTH, unique_chars_count))  \n",
    "    predicted = ''.join([characters[np.argmax(i)] for i in sample])\n",
    "    predicted_word.append(predicted)\n",
    "\n",
    "for i in range(0, numTestingSamples):\n",
    "    temp = ''.join([characters[i] for i in (np.argmax(y_test[:, i],axis=1))])\n",
    "    true_word.append(temp)"
   ]
  },
  {
   "cell_type": "markdown",
   "id": "a8df50b9",
   "metadata": {},
   "source": [
    "#### Convert to csv\n",
    "Convert true values and predicted values to dataframe and then make a csv file to show predictions"
   ]
  },
  {
   "cell_type": "code",
   "execution_count": 16,
   "id": "9eb39051",
   "metadata": {},
   "outputs": [
    {
     "name": "stdout",
     "output_type": "stream",
     "text": [
      "    Predicted_value True_value\n",
      "0             wxx4m      wxy4n\n",
      "1             8n65n      8n65n\n",
      "2             gwnm6      gwnm6\n",
      "3             wxcn8      wxcn8\n",
      "4             nf2n8      nf2n8\n",
      "..              ...        ...\n",
      "209           76353      76353\n",
      "210           ppwyd      ppwyd\n",
      "211           e6m6p      e6m6p\n",
      "212           myf82      myf82\n",
      "213           5nfff      5mfff\n",
      "\n",
      "[214 rows x 2 columns]\n"
     ]
    }
   ],
   "source": [
    "predicted_word = np.array(predicted_word)\n",
    "true_word = np.array(true_word)\n",
    "df = pd.DataFrame({'Predicted_value': predicted_word, 'True_value': list(true_word)}, columns=['Predicted_value', 'True_value'])\n",
    "print(df)"
   ]
  },
  {
   "cell_type": "code",
   "execution_count": 17,
   "id": "1c255bf1",
   "metadata": {},
   "outputs": [],
   "source": [
    "df.to_csv('result.csv', index=False)"
   ]
  }
 ],
 "metadata": {
  "interpreter": {
   "hash": "0637dabcafe78c26ecb06f1d7bd4ad6b10f30890c45624e21106886b49e792fd"
  },
  "kernelspec": {
   "display_name": "Python 3 (ipykernel)",
   "language": "python",
   "name": "python3"
  },
  "language_info": {
   "codemirror_mode": {
    "name": "ipython",
    "version": 3
   },
   "file_extension": ".py",
   "mimetype": "text/x-python",
   "name": "python",
   "nbconvert_exporter": "python",
   "pygments_lexer": "ipython3",
   "version": "3.10.2"
  }
 },
 "nbformat": 4,
 "nbformat_minor": 5
}
